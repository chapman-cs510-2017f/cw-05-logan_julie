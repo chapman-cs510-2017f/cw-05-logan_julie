{
 "cells": [
  {
   "cell_type": "markdown",
   "metadata": {
    "collapsed": false
   },
   "source": [
    "Name: Julie Gardner-Hoag, Logan Gantner\n",
    "\n",
    "Student ID: 2299636, 2307470\n",
    "\n",
    "Email: gardnerh@chapman.edu, gantner@chapman.edu\n",
    "\n",
    "Course: CS510 Fall 2017\n",
    "\n",
    "Assignment: Classwork 5"
   ]
  },
  {
   "cell_type": "code",
   "execution_count": 3,
   "metadata": {
    "collapsed": false
   },
   "outputs": [
   ],
   "source": [
    "import cplane\n",
    "from abscplane import AbsComplexPlane"
   ]
  },
  {
   "cell_type": "markdown",
   "metadata": {
    "collapsed": false
   },
   "source": [
    "## Creating the Complex Plane Class"
   ]
  },
  {
   "cell_type": "markdown",
   "metadata": {
    "collapsed": false
   },
   "source": [
    "First, we created the class cplane. The purpose of the class is to store and manipulate a grid of complex points. Our class inherited from AbsComplexPlane, which is an abstract base class with the general structure of our final class. The data was stored in a 2D list containing grid points."
   ]
  },
  {
   "cell_type": "code",
   "execution_count": 4,
   "metadata": {
    "collapsed": false
   },
   "outputs": [
   ],
   "source": [
    "class ListComplexPlane(AbsComplexPlane):\n",
    "    def __init__(self, xmin, xmax, xlen, ymin, ymax, ylen):\n",
    "        self.xmin  = xmin\n",
    "        self.xmax  = xmax\n",
    "        self.xlen  = xlen\n",
    "        self.ymin  = ymin\n",
    "        self.ymax  = ymax\n",
    "        self.ylen  = ylen\n",
    "\n",
    "        self.plane = self.__create_grid(self.xmin, self.xmax, self.xlen, self.ymin, self.ymax, self.ylen)\n",
    "        self.fs    = []"
   ]
  },
  {
   "cell_type": "markdown",
   "metadata": {
    "collapsed": false
   },
   "source": [
    "## The Grid Structure"
   ]
  },
  {
   "cell_type": "markdown",
   "metadata": {
    "collapsed": false
   },
   "source": [
    "The grid is stored in attribute self.plane. The user supplies 6 parameters for the plane. Those are the 4 dimensions and the number of points in each dimension."
   ]
  },
  {
   "cell_type": "code",
   "execution_count": 5,
   "metadata": {
    "collapsed": false
   },
   "outputs": [
   ],
   "source": [
    "    def __create_grid(self, xmin, xmax, xlen, ymin, ymax, ylen):\n",
    "        dx = (xmax-xmin)/(xlen-1)\n",
    "        dy = (ymax-ymin)/(ylen-1)\n",
    "\n",
    "        x_grid_vals = [xmin + i*dx for i in range(xlen)]\n",
    "        y_grid_vals = [ymin + i*dy for i in range(ylen)]\n",
    "\n",
    "        plane = []\n",
    "        for x in x_grid_vals:\n",
    "            plane.append([])\n",
    "            for y in y_grid_vals:\n",
    "                plane[-1].append(x + 1j*y)\n",
    "        return plane"
   ]
  },
  {
   "cell_type": "markdown",
   "metadata": {
    "collapsed": false
   },
   "source": [
    "## The Apply Function"
   ]
  },
  {
   "cell_type": "markdown",
   "metadata": {
    "collapsed": false
   },
   "source": [
    "The apply function takes our points $z$, where $z=(x + y\\cdot1j)$ and performs $f(z)$. In testing our program, we chose $f(z)=z+2$."
   ]
  },
  {
   "cell_type": "code",
   "execution_count": 10,
   "metadata": {
    "collapsed": false
   },
   "outputs": [
   ],
   "source": [
    "    def apply(self, f):\n",
    "        for i in range(self.xlen):\n",
    "            for j in range(self.ylen):\n",
    "                z = self.plane[i][j]\n",
    "                self.plane[i][j] = f(z)\n",
    "        self.fs.append(f)"
   ]
  },
  {
   "cell_type": "markdown",
   "metadata": {
    "collapsed": false
   },
   "source": [
    "## The Refresh Function"
   ]
  },
  {
   "cell_type": "markdown",
   "metadata": {
    "collapsed": false
   },
   "source": [
    "The refresh function regenerates the complex plane and clears all functions that transform the plane. We did this by simply make fs an empty list and resetting the parameters for the 2D grid of points to regenerate the grid."
   ]
  },
  {
   "cell_type": "code",
   "execution_count": 8,
   "metadata": {
    "collapsed": false
   },
   "outputs": [
   ],
   "source": [
    "    def refresh(self):\n",
    "        self.fs = []\n",
    "        self.plane = self.__create_grid(self.xmin, self.xmax, self.xlen, self.ymin, self.ymax, self.ylen)"
   ]
  },
  {
   "cell_type": "markdown",
   "metadata": {
    "collapsed": false
   },
   "source": [
    "## The Zoom Function"
   ]
  },
  {
   "cell_type": "markdown",
   "metadata": {
    "collapsed": false
   },
   "source": [
    "The zoom function takes new values for our xmin, xmax, xlen, ymin, ymax, and ylen values and applies f(z) to our new values."
   ]
  },
  {
   "cell_type": "raw",
   "metadata": {
    "collapsed": false
   },
   "source": [
    "self.plane = self.__create_grid(self.xmin, self.xmax, self.xlen,self.ymin, self.ymax, self.ylen\n",
    "fs_copy = list(self.fs)\n",
    "self.fs = []\n",
    "for f in fs_copy:\n",
    "self.apply(f)"
   ]
  },
  {
   "cell_type": "markdown",
   "metadata": {
    "collapsed": false
   },
   "source": [
    "## Abstract Base Class"
   ]
  },
  {
   "cell_type": "markdown",
   "metadata": {
    "collapsed": false
   },
   "source": [
    "What does an abstract base class do? Why might it be useful?"
   ]
  },
  {
   "cell_type": "markdown",
   "metadata": {
    "collapsed": false
   },
   "source": [
    "## Test Cases"
   ]
  },
  {
   "cell_type": "markdown",
   "metadata": {
    "collapsed": false
   },
   "source": [
    "Our test module tests each of our functions.\n",
    "\n",
    "First we tested our plane to make sure our program outputs the correct points.\n",
    "\n",
    "Next, we tested our apply function to test that our points carried out the function $f(z) = z + 2$ correctly.\n",
    "\n",
    "Then, we tested the zoom function. This test function applies our function $f(z)$ and then carries out our zoom function with new points. The zoom function also applies $f(z) to these new points. This test function checks that we get the correct output for this as well.\n",
    "\n",
    "Finally, we tested the refresh function. This test function applies $f(z)$ and then applies the refresh function. The refresh function should give us the original points for our plane. This test function checks that we get our original points."
   ]
  }
 ],
 "metadata": {
  "kernelspec": {
   "display_name": "Python 3 (Anaconda)",
   "language": "python",
   "name": "anaconda3"
  },
  "language_info": {
   "codemirror_mode": {
    "name": "ipython",
    "version": 3
   },
   "file_extension": ".py",
   "mimetype": "text/x-python",
   "name": "python",
   "nbconvert_exporter": "python",
   "pygments_lexer": "ipython3",
   "version": "3.5.4"
  }
 },
 "nbformat": 4,
 "nbformat_minor": 0
}