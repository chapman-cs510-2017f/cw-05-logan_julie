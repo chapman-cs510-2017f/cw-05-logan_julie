{
 "cells": [
  {
   "cell_type": "markdown",
   "metadata": {
    "collapsed": false
   },
   "source": [
    "## Logan's Critique ##\n",
    "\n",
    "Code is very well-organized through the pre-amble. Authors and objectives well established and formatted. Functions contain very thorough docstrings. Catches illegal case where n is negative but might miss non-integer types. Commenting makes code very clear. Parts of code are slightly verbose. Nose tests are complete. Generator section was incomplete but a good attempt. Jupyter writeup is clean and organized.\n",
    "\n",
    "## Julie's Critique ##\n",
    "\n"
   ]
  }
 ],
 "metadata": {
  "kernelspec": {
   "display_name": "Python 3 (Anaconda)",
   "language": "python",
   "name": "anaconda3"
  },
  "language_info": {
   "codemirror_mode": {
    "name": "ipython",
    "version": 3
   },
   "file_extension": ".py",
   "mimetype": "text/x-python",
   "name": "python",
   "nbconvert_exporter": "python",
   "pygments_lexer": "ipython3",
   "version": "3.5.4"
  }
 },
 "nbformat": 4,
 "nbformat_minor": 0
}