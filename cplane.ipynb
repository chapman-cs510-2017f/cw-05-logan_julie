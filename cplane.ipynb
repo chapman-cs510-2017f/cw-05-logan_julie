{
 "cells": [
  {
   "cell_type": "markdown",
   "metadata": {
    "collapsed": false
   },
   "source": [
    "Name: Julie Gardner-Hoag, Logan Gantner\n",
    "Student ID: 2299636, 2307470\n",
    "Email: gardnerh@chapman.edu, gantner@chapman.edu\n",
    "Course: CS510 Fall 2017\n",
    "Assignment: Classwork 5"
   ]
  },
  {
   "cell_type": "code",
   "execution_count": 0,
   "metadata": {
    "collapsed": false
   },
   "outputs": [
   ],
   "source": [
    "import cplane"
   ]
  },
  {
   "cell_type": "markdown",
   "metadata": {
    "collapsed": false
   },
   "source": [
    "## Creating the Complex Plane Class"
   ]
  },
  {
   "cell_type": "markdown",
   "metadata": {
    "collapsed": false
   },
   "source": [
    "First, we created the class cplane. The purpose of the class is to store and manipulate a grid of complex points. Our class inherited from AbsComplexPlane, which is an abstract base class with the general structure of our final class. The data was stored in a 2D list containing grid points."
   ]
  },
  {
   "cell_type": "markdown",
   "metadata": {
    "collapsed": false
   },
   "source": [
    "## The Grid Structure"
   ]
  },
  {
   "cell_type": "markdown",
   "metadata": {
    "collapsed": false
   },
   "source": [
    "The grid is stored in attribute self.plane. The user supplies 6 parameters for the plane. Those are the 4 dimensions and the number of points in each dimension. "
   ]
  }
 ],
 "metadata": {
  "kernelspec": {
   "display_name": "Python 3 (Anaconda)",
   "language": "python",
   "name": "anaconda3"
  },
  "language_info": {
   "codemirror_mode": {
    "name": "ipython",
    "version": 3
   },
   "file_extension": ".py",
   "mimetype": "text/x-python",
   "name": "python",
   "nbconvert_exporter": "python",
   "pygments_lexer": "ipython3",
   "version": "3.5.4"
  }
 },
 "nbformat": 4,
 "nbformat_minor": 0
}